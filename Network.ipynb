{
 "cells": [
  {
   "cell_type": "markdown",
   "id": "d7b976a9",
   "metadata": {},
   "source": [
    "## Installing Touch:"
   ]
  },
  {
   "cell_type": "code",
   "execution_count": 3,
   "id": "46632dc7",
   "metadata": {},
   "outputs": [
    {
     "name": "stdout",
     "output_type": "stream",
     "text": [
      "Requirement already satisfied: torch in /home/prometheus/anaconda3/lib/python3.9/site-packages (1.13.1)\r\n",
      "Requirement already satisfied: nvidia-cudnn-cu11==8.5.0.96 in /home/prometheus/anaconda3/lib/python3.9/site-packages (from torch) (8.5.0.96)\r\n",
      "Requirement already satisfied: nvidia-cuda-runtime-cu11==11.7.99 in /home/prometheus/anaconda3/lib/python3.9/site-packages (from torch) (11.7.99)\r\n",
      "Requirement already satisfied: typing-extensions in /home/prometheus/anaconda3/lib/python3.9/site-packages (from torch) (4.3.0)\r\n",
      "Requirement already satisfied: nvidia-cuda-nvrtc-cu11==11.7.99 in /home/prometheus/anaconda3/lib/python3.9/site-packages (from torch) (11.7.99)\r\n",
      "Requirement already satisfied: nvidia-cublas-cu11==11.10.3.66 in /home/prometheus/anaconda3/lib/python3.9/site-packages (from torch) (11.10.3.66)\r\n",
      "Requirement already satisfied: wheel in /home/prometheus/anaconda3/lib/python3.9/site-packages (from nvidia-cublas-cu11==11.10.3.66->torch) (0.37.1)\r\n",
      "Requirement already satisfied: setuptools in /home/prometheus/anaconda3/lib/python3.9/site-packages (from nvidia-cublas-cu11==11.10.3.66->torch) (63.4.1)\r\n"
     ]
    }
   ],
   "source": [
    "!pip install torch"
   ]
  },
  {
   "cell_type": "markdown",
   "id": "03c6cf5d",
   "metadata": {},
   "source": [
    "## Import necessary libraries"
   ]
  },
  {
   "cell_type": "code",
   "execution_count": 4,
   "id": "a80228cd",
   "metadata": {},
   "outputs": [],
   "source": [
    "import numpy as np\n",
    "import torch\n",
    "import torch.nn as nn\n",
    "import torch.optim as optim\n",
    "from torch.utils.data import DataLoader, TensorDataset\n",
    "from matplotlib import pyplot as plt\n",
    "import matplotlib.pyplot as plt"
   ]
  },
  {
   "cell_type": "markdown",
   "id": "58b99958",
   "metadata": {},
   "source": [
    "## Define an empty list for RMSE"
   ]
  },
  {
   "cell_type": "code",
   "execution_count": 5,
   "id": "43f59929",
   "metadata": {},
   "outputs": [
    {
     "name": "stdout",
     "output_type": "stream",
     "text": [
      "[]\n"
     ]
    }
   ],
   "source": [
    "rmse_list = []\n",
    "print(rmse_list)"
   ]
  },
  {
   "cell_type": "markdown",
   "id": "53729511",
   "metadata": {},
   "source": [
    "\n",
    "## Define the function to plot training loss"
   ]
  },
  {
   "cell_type": "code",
   "execution_count": 6,
   "id": "6f699136",
   "metadata": {},
   "outputs": [],
   "source": [
    "def plot_training_loss(loss_list):\n",
    "    plt.plot(loss_list)\n",
    "    plt.title(\"Model Training\")\n",
    "    plt.xlabel(\"Epochs\")\n",
    "    plt.ylabel(\"Loss\")\n",
    "    plt.show()\n"
   ]
  },
  {
   "cell_type": "markdown",
   "id": "cf1e3fe0",
   "metadata": {},
   "source": [
    "    \n",
    " ## Define the function to plot test RMSE variation"
   ]
  },
  {
   "cell_type": "code",
   "execution_count": 7,
   "id": "c5cc0cd2",
   "metadata": {},
   "outputs": [],
   "source": [
    "def plot_rmse(rmse_list):\n",
    "    plt.plot(rmse_list)\n",
    "    plt.title(\"Test RMSE Variation with Increasing Epochs\")\n",
    "    plt.xlabel(\"Epochs\")\n",
    "    plt.ylabel(\"RMSE\")\n",
    "    plt.show()\n",
    " "
   ]
  },
  {
   "cell_type": "markdown",
   "id": "f096ce98",
   "metadata": {},
   "source": [
    "## Load data"
   ]
  },
  {
   "cell_type": "code",
   "execution_count": 8,
   "id": "3657a5f1",
   "metadata": {},
   "outputs": [],
   "source": [
    "train_data = np.loadtxt(\"TrainData.csv\")\n",
    "train_labels = np.loadtxt(\"TrainLabels.csv\")\n",
    "test_data = np.loadtxt(\"TestData.csv\")"
   ]
  },
  {
   "cell_type": "markdown",
   "id": "c394510e",
   "metadata": {},
   "source": [
    "## Preprocess data"
   ]
  },
  {
   "cell_type": "code",
   "execution_count": 9,
   "id": "633548c0",
   "metadata": {},
   "outputs": [],
   "source": [
    "train_data_mean = np.mean(train_data, axis=0)\n",
    "train_data_std = np.std(train_data, axis=0)\n",
    "train_data = (train_data - train_data_mean) / train_data_std\n",
    "test_data = (test_data - train_data_mean) / train_data_std"
   ]
  },
  {
   "cell_type": "markdown",
   "id": "d449370e",
   "metadata": {},
   "source": [
    "## Define the neural network"
   ]
  },
  {
   "cell_type": "code",
   "execution_count": 10,
   "id": "81f6466f",
   "metadata": {},
   "outputs": [],
   "source": [
    "class NeuralNet(nn.Module):\n",
    "    def __init__(self, input_dim, output_dim, hidden_dim):\n",
    "        super(NeuralNet, self).__init__()\n",
    "        self.fc1 = nn.Linear(input_dim, hidden_dim)\n",
    "        self.fc2 = nn.Linear(hidden_dim, hidden_dim)\n",
    "        self.fc3 = nn.Linear(hidden_dim, output_dim)\n",
    "        self.relu = nn.ReLU()\n",
    "\n",
    "    def forward(self, x):\n",
    "        x = self.relu(self.fc1(x))\n",
    "        x = self.relu(self.fc2(x))\n",
    "        x = self.fc3(x)\n",
    "        return x"
   ]
  },
  {
   "cell_type": "markdown",
   "id": "fd4a256f",
   "metadata": {},
   "source": [
    "## Define the function to calculate RMSE"
   ]
  },
  {
   "cell_type": "code",
   "execution_count": 11,
   "id": "0f04e6a4",
   "metadata": {},
   "outputs": [],
   "source": [
    "def calculate_rmse(predictions, labels):\n",
    "    mse = nn.MSELoss()\n",
    "    rmse = torch.sqrt(mse(predictions, labels))\n",
    "    return rmse.item()"
   ]
  },
  {
   "cell_type": "markdown",
   "id": "03f4d487",
   "metadata": {},
   "source": [
    "## Define hyperparameters"
   ]
  },
  {
   "cell_type": "code",
   "execution_count": 12,
   "id": "c87f848b",
   "metadata": {},
   "outputs": [],
   "source": [
    "input_dim = 8\n",
    "output_dim = 1\n",
    "hidden_dim = 32\n",
    "learning_rate = 0.01\n",
    "batch_size = 32\n",
    "num_epochs = 100\n",
    "lambda_L1 = 0.01"
   ]
  },
  {
   "cell_type": "markdown",
   "id": "453be300",
   "metadata": {},
   "source": [
    "## Define the model, optimizer and scheduler"
   ]
  },
  {
   "cell_type": "code",
   "execution_count": 13,
   "id": "7ddd5d5b",
   "metadata": {},
   "outputs": [],
   "source": [
    "model = NeuralNet(input_dim, output_dim, hidden_dim)\n",
    "optimizer = optim.Adam(model.parameters(), lr=learning_rate, weight_decay=lambda_L1)\n",
    "scheduler = optim.lr_scheduler.ReduceLROnPlateau(optimizer, mode='min', factor=0.1, patience=5, verbose=True)"
   ]
  },
  {
   "cell_type": "markdown",
   "id": "253fa3a6",
   "metadata": {},
   "source": [
    "## Evaluate the performance on test data"
   ]
  },
  {
   "cell_type": "code",
   "execution_count": 32,
   "id": "0c50f1cd",
   "metadata": {},
   "outputs": [
    {
     "name": "stdout",
     "output_type": "stream",
     "text": [
      "[36.38914489746094, 21.270885467529297, 21.270885467529297, 21.270885467529297, 21.270885467529297, 21.270885467529297]\n",
      "Test RMSE: 21.2709\n"
     ]
    }
   ],
   "source": [
    "test_dataset = TensorDataset(torch.from_numpy(test_data).float())\n",
    "test_loader = DataLoader(test_dataset, batch_size=batch_size, shuffle=False)\n",
    "model.eval()\n",
    "test_predictions = []\n",
    "test_labels = torch.from_numpy(np.loadtxt(\"TestLabels.csv\")).float()\n",
    "with torch.no_grad():\n",
    "    for batch_data in test_loader:\n",
    "        batch_predictions = model(batch_data[0])\n",
    "        test_predictions.append(batch_predictions)\n",
    "test_predictions = torch.cat(test_predictions, dim=0)\n",
    "rmse = calculate_rmse(test_predictions, test_labels)\n",
    "rmse_list.append(rmse)\n",
    "print(rmse_list)\n",
    "print(\"Test RMSE: {:.4f}\".format(rmse))"
   ]
  },
  {
   "cell_type": "markdown",
   "id": "404ff62b",
   "metadata": {},
   "source": [
    "## Define loss function"
   ]
  },
  {
   "cell_type": "code",
   "execution_count": 15,
   "id": "b71afd04",
   "metadata": {},
   "outputs": [],
   "source": [
    "criterion = nn.MSELoss()"
   ]
  },
  {
   "cell_type": "markdown",
   "id": "64206c26",
   "metadata": {},
   "source": [
    "\n",
    "## Define data loader"
   ]
  },
  {
   "cell_type": "code",
   "execution_count": 16,
   "id": "4ce12206",
   "metadata": {},
   "outputs": [],
   "source": [
    "train_dataset = TensorDataset(torch.from_numpy(train_data).float(), torch.from_numpy(train_labels).float())\n",
    "train_loader = DataLoader(train_dataset, batch_size=batch_size, shuffle=True)"
   ]
  },
  {
   "cell_type": "markdown",
   "id": "1991ca43",
   "metadata": {},
   "source": [
    "## Define the model, optimizer and scheduler"
   ]
  },
  {
   "cell_type": "code",
   "execution_count": 17,
   "id": "640d735b",
   "metadata": {},
   "outputs": [],
   "source": [
    "model = NeuralNet(input_dim, output_dim, hidden_dim)\n",
    "optimizer = optim.Adam(model.parameters(), lr=learning_rate, weight_decay=lambda_L1)\n",
    "scheduler = optim.lr_scheduler.ReduceLROnPlateau(optimizer, mode='min', factor=0.1, patience=5, verbose=True)"
   ]
  },
  {
   "cell_type": "markdown",
   "id": "8a5a150c",
   "metadata": {},
   "source": [
    "## Train the model"
   ]
  },
  {
   "cell_type": "code",
   "execution_count": 22,
   "id": "826d48ef",
   "metadata": {},
   "outputs": [
    {
     "name": "stdout",
     "output_type": "stream",
     "text": [
      "Epoch 00108: reducing learning rate of group 0 to 1.0000e-06.\n",
      "Epoch [10/100], Loss: 24.3372\n",
      "Epoch 00115: reducing learning rate of group 0 to 1.0000e-07.\n",
      "Epoch [20/100], Loss: 26.4510\n",
      "Epoch 00125: reducing learning rate of group 0 to 1.0000e-08.\n",
      "Epoch [30/100], Loss: 32.6039\n",
      "Epoch [40/100], Loss: 22.5526\n",
      "Epoch [50/100], Loss: 41.7913\n",
      "Epoch [60/100], Loss: 36.0765\n",
      "Epoch [70/100], Loss: 23.1437\n",
      "Epoch [80/100], Loss: 21.4537\n",
      "Epoch [90/100], Loss: 32.0535\n",
      "Epoch [100/100], Loss: 40.5860\n"
     ]
    }
   ],
   "source": [
    "loss_list = []\n",
    "rmse = []\n",
    "for epoch in range(num_epochs):\n",
    "    epoch_loss = 0\n",
    "    for batch_data, batch_labels in train_loader:\n",
    "        optimizer.zero_grad()\n",
    "        batch_predictions = model(batch_data)\n",
    "        batch_loss = criterion(batch_predictions, batch_labels.unsqueeze(1))\n",
    "\n",
    "        # Define L1 Regularization\n",
    "        l1_reg = nn.L1Loss()\n",
    "        l1_loss = 0\n",
    "        for param in model.parameters():\n",
    "            l1_loss += torch.norm(param, p=1)\n",
    "        batch_loss += lambda_L1 * l1_loss\n",
    "        \n",
    "        epoch_loss += batch_loss.item()\n",
    "        batch_loss.backward()\n",
    "        optimizer.step()\n",
    "\n",
    "    loss_list.append(epoch_loss)\n",
    "    scheduler.step(epoch_loss)\n",
    "    if (epoch + 1) % 10 == 0:\n",
    "        print(\"Epoch [{}/{}], Loss: {:.4f}\".format(epoch+1, num_epochs, batch_loss.item()))"
   ]
  },
  {
   "cell_type": "markdown",
   "id": "08866d08",
   "metadata": {},
   "source": [
    "## Save the model"
   ]
  },
  {
   "cell_type": "code",
   "execution_count": 23,
   "id": "45acc4d6",
   "metadata": {},
   "outputs": [],
   "source": [
    "torch.save(model.state_dict(), \"MSCS22058_Model.pkl\")"
   ]
  },
  {
   "cell_type": "markdown",
   "id": "a8a1f12e",
   "metadata": {},
   "source": [
    "## Evaluate the performance on test data"
   ]
  },
  {
   "cell_type": "code",
   "execution_count": 24,
   "id": "73843092",
   "metadata": {},
   "outputs": [],
   "source": [
    "test_dataset = TensorDataset(torch.from_numpy(test_data).float())\n",
    "test_loader = DataLoader(test_dataset, batch_size=batch_size, shuffle=False)\n",
    "model.eval()\n",
    "test_predictions = []\n",
    "with torch.no_grad():\n",
    "    for batch_data in test_loader:\n",
    "        batch_predictions = model(batch_data[0])"
   ]
  },
  {
   "cell_type": "markdown",
   "id": "bd487919",
   "metadata": {},
   "source": [
    "## Plot the test RMSE variation"
   ]
  },
  {
   "cell_type": "code",
   "execution_count": 33,
   "id": "1c614076",
   "metadata": {},
   "outputs": [
    {
     "data": {
      "image/png": "[encoded data removed]",
      "text/plain": [
       "<Figure size 640x480 with 1 Axes>"
      ]
     },
     "metadata": {},
     "output_type": "display_data"
    },
    {
     "name": "stdout",
     "output_type": "stream",
     "text": [
      "[36.38914489746094, 21.270885467529297, 21.270885467529297, 21.270885467529297, 21.270885467529297, 21.270885467529297]\n"
     ]
    },
    {
     "data": {
      "image/png": "[encoded data removed]",
      "text/plain": [
       "<Figure size 640x480 with 1 Axes>"
      ]
     },
     "metadata": {},
     "output_type": "display_data"
    }
   ],
   "source": [
    "plot_rmse(rmse_list)\n",
    "print(rmse_list)\n",
    "plot_training_loss(loss_list)"
   ]
  },
  {
   "cell_type": "code",
   "execution_count": null,
   "id": "cf737a1e",
   "metadata": {},
   "outputs": [],
   "source": []
  }
 ],
 "metadata": {
  "kernelspec": {
   "display_name": "Python 3 (ipykernel)",
   "language": "python",
   "name": "python3"
  },
  "language_info": {
   "codemirror_mode": {
    "name": "ipython",
    "version": 3
   },
   "file_extension": ".py",
   "mimetype": "text/x-python",
   "name": "python",
   "nbconvert_exporter": "python",
   "pygments_lexer": "ipython3",
   "version": "3.9.13"
  }
 },
 "nbformat": 4,
 "nbformat_minor": 5
}
